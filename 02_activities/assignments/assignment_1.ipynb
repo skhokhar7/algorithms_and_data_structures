{
 "cells": [
  {
   "cell_type": "markdown",
   "metadata": {},
   "source": [
    "# Coding Problems\n",
    "\n",
    "## Objective\n",
    "\n",
    "This assignment aims to demonstrate how to study a data structures or algorithms question in depth to prepare for an industry coding interview. Leetcode is a popular coding practice site that many use to practice for technical interviews. Like behavioral interviews, it's important to practice and keep your skills sharp.\n",
    "\n",
    "## Group Size\n",
    "\n",
    "Please complete this individually.\n",
    "\n",
    "## Parts:\n",
    "- Part 1: Figure out the problem you have been assigned, and understand the problem\n",
    "- Part 2: Answer the questions about your assigned problem (including solving it)\n",
    "\n",
    "## Part 1:\n",
    "\n",
    "_*You will be assigned one of three problems based of your first name. Enter your first name, in all lower case, execute the code below, and that will tell you your assigned problem. Include the output as part of your submission (do not clear the output). The problems are based-off problems from Leetcode.*_\n"
   ]
  },
  {
   "cell_type": "code",
   "execution_count": 11,
   "metadata": {},
   "outputs": [
    {
     "name": "stdout",
     "output_type": "stream",
     "text": [
      "1\n"
     ]
    }
   ],
   "source": [
    "import hashlib\n",
    "\n",
    "def hash_to_range(input_string: str) -> int:\n",
    "     hash_object = hashlib.sha256(input_string.encode())\n",
    "     hash_int = int(hash_object.hexdigest(), 16)\n",
    "     return (hash_int % 3) + 1\n",
    "\n",
    "input_string = \"shahid\"\n",
    "result = hash_to_range(input_string)\n",
    "print(result)\n"
   ]
  },
  {
   "cell_type": "markdown",
   "metadata": {},
   "source": [
    "## Question One: First Duplicate in List\n",
    "**Description**  \n",
    "Given a list of integers, return the **first value that appears more than once**. If there are multiple duplicates, return the one that appears **first** in the list. If no duplicate exists, return `-1`.\n",
    "\n",
    "**Examples**\n",
    "```python\n",
    "Input: nums = [3, 1, 4, 2, 5, 1, 6]\n",
    "Output: 1\n",
    "```\n",
    "```python\n",
    "Input: nums = [7, 8, 9, 10]\n",
    "Output: -1\n",
    "```\n",
    "```python\n",
    "Input: nums = [4, 5, 6, 4, 6]\n",
    "Output: 4\n",
    "```\n",
    "\n",
    "**Question 1 Starter Code**"
   ]
  },
  {
   "cell_type": "code",
   "execution_count": 12,
   "metadata": {},
   "outputs": [],
   "source": [
    "from typing import List\n",
    "\n",
    "def first_duplicate(nums: List[int]) -> int:\n",
    "    # TODO\n",
    "    pass\n"
   ]
  },
  {
   "cell_type": "markdown",
   "metadata": {},
   "source": [
    "## Question Two: Valid Bracket Sequence\n",
    "**Description**  \n",
    "Given a string containing only the characters `'('`, `')'`, `'{'`, `'}'`, `'['`, and `']'`, determine if the input string is a **valid bracket sequence**.  \n",
    "A string is valid if:\n",
    "- Open brackets are closed by the same type of brackets, and\n",
    "- Open brackets are closed in the correct order.\n",
    "\n",
    "**Examples**\n",
    "```python\n",
    "Input: s = \"([]{})\"\n",
    "Output: True\n",
    "```\n",
    "```python\n",
    "Input: s = \"([)]\"\n",
    "Output: False\n",
    "```\n",
    "```python\n",
    "Input: s = \"()[]{}\"\n",
    "Output: True\n",
    "```\n",
    "```python\n",
    "Input: s = \"[{]}\"\n",
    "Output: False\n",
    "```\n",
    "\n",
    "**Question 2 Starter Code**"
   ]
  },
  {
   "cell_type": "code",
   "execution_count": 13,
   "metadata": {},
   "outputs": [],
   "source": [
    "def is_valid_brackets(s: str) -> bool:\n",
    "    # TODO\n",
    "    pass"
   ]
  },
  {
   "cell_type": "markdown",
   "metadata": {},
   "source": [
    "## Question Three: Move All Zeros to End\n",
    "**Description**  \n",
    "Given a list of integers, move all zeros to the end while maintaining the relative order of the non-zero elements. \n",
    "\n",
    "**Examples**\n",
    "```python\n",
    "Input: nums = [0, 1, 0, 3, 12]\n",
    "Output: [1, 3, 12, 0, 0]\n",
    "```\n",
    "```python\n",
    "Input: nums = [4, 0, 5, 0, 0, 6]\n",
    "Output: [4, 5, 6, 0, 0, 0]\n",
    "```\n"
   ]
  },
  {
   "cell_type": "code",
   "execution_count": 14,
   "metadata": {},
   "outputs": [],
   "source": [
    "from typing import List\n",
    "\n",
    "def move_zeros_to_end(nums: List[int]) -> List[int]:\n",
    "    # TODO\n",
    "    pass"
   ]
  },
  {
   "cell_type": "markdown",
   "metadata": {},
   "source": [
    "\n",
    "## Part 2:\n",
    "\n",
    "-   Paraphrase the problem in your own words\n"
   ]
  },
  {
   "cell_type": "code",
   "execution_count": 15,
   "metadata": {},
   "outputs": [
    {
     "data": {
      "text/plain": [
       "'\\nFind the first number in a list of numbers which exists more than once in that list. \\nIf found such number, then print that number, otherwise print -1.\\nThe example inputs and their required outputs are as follows:\\n\\nInput: nums = [3, 1, 4, 2, 5, 1, 6]\\nOutput: 1\\n\\nInput: nums = [7, 8, 9, 10]\\nOutput: -1\\n\\nInput: nums = [4, 5, 6, 4, 6]\\nOutput: 4\\n'"
      ]
     },
     "execution_count": 15,
     "metadata": {},
     "output_type": "execute_result"
    }
   ],
   "source": [
    "'''\n",
    "Find the first number in a list of numbers which exists more than once in that list. \n",
    "If found such number, then print that number, otherwise print -1.\n",
    "The example inputs and their required outputs are as follows:\n",
    "\n",
    "Input: nums = [3, 1, 4, 2, 5, 1, 6]\n",
    "Output: 1\n",
    "\n",
    "Input: nums = [7, 8, 9, 10]\n",
    "Output: -1\n",
    "\n",
    "Input: nums = [4, 5, 6, 4, 6]\n",
    "Output: 4\n",
    "'''"
   ]
  },
  {
   "cell_type": "markdown",
   "metadata": {},
   "source": [
    "- In this .ipynb file, there are examples that illustrate how the code should work (the examples provided above). Create 2 new examples for the question you have been assigned, that demonstrate you understand the problem. For question 1 and 2, you don't need to create the tree demonstration, just the input and output.\n"
   ]
  },
  {
   "cell_type": "code",
   "execution_count": 16,
   "metadata": {},
   "outputs": [
    {
     "data": {
      "text/plain": [
       "'\\nExamples:\\n\\nInput: nums = [5, 10, 5, 20, 25, 30]\\nOutput: 5\\n\\nInput: nums = [5, 10, 15, 20, 25]\\nOutput: -1\\n'"
      ]
     },
     "execution_count": 16,
     "metadata": {},
     "output_type": "execute_result"
    }
   ],
   "source": [
    "'''\n",
    "Examples:\n",
    "\n",
    "Input: nums = [5, 10, 5, 20, 25, 30]\n",
    "Output: 5\n",
    "\n",
    "Input: nums = [5, 10, 15, 20, 25]\n",
    "Output: -1\n",
    "'''"
   ]
  },
  {
   "cell_type": "markdown",
   "metadata": {},
   "source": [
    "\n",
    "-   Code the solution to your assigned problem in Python (code chunk). Note: each problem can be solved more simply if you use an abstract data type that is suitable for that problem. Using that try to find the best time and space complexity solution!\n"
   ]
  },
  {
   "cell_type": "code",
   "execution_count": 17,
   "metadata": {},
   "outputs": [
    {
     "name": "stdout",
     "output_type": "stream",
     "text": [
      "Input nums = [3, 1, 4, 2, 5, 1, 6]\n",
      "First Duplicate Output: 1\n",
      "Input nums = [7, 8, 9, 10]\n",
      "First Duplicate Output: -1\n",
      "Input nums = [4, 5, 6, 4, 6]\n",
      "First Duplicate Output: 4\n"
     ]
    }
   ],
   "source": [
    "# Your answer here\n",
    "from typing import List\n",
    "\n",
    "def first_duplicate(nums: List[int]) -> int:\n",
    "    seen = set() # No duplicates allowed.\n",
    "    for num in nums:\n",
    "        if num in seen:\n",
    "            return num\n",
    "        seen.add(num)\n",
    "    return -1\n",
    "\n",
    "num1: List[int] = [3, 1, 4, 2, 5, 1, 6]\n",
    "num2: List[int] = [7, 8, 9, 10]\n",
    "num3: List[int] = [4, 5, 6, 4, 6]\n",
    "\n",
    "print(f'Input nums = {num1}')\n",
    "print(f'First Duplicate Output: {first_duplicate(num1)}')\n",
    "\n",
    "print(f'Input nums = {num2}')\n",
    "print(f'First Duplicate Output: {first_duplicate(num2)}')\n",
    "\n",
    "print(f'Input nums = {num3}')\n",
    "print(f'First Duplicate Output: {first_duplicate(num3)}')\n"
   ]
  },
  {
   "cell_type": "markdown",
   "metadata": {},
   "source": [
    "\n",
    "-   Explain why your solution works\n"
   ]
  },
  {
   "cell_type": "code",
   "execution_count": 18,
   "metadata": {},
   "outputs": [
    {
     "data": {
      "text/plain": [
       "'\\nFollowing are the logical steps how my solution works:\\n\\n1.  Accept the input of a list of numbers.\\n\\n2.  Create an empty set for the observed list element values.\\n\\n3.  Iterate through the list:\\n\\n        3.1 Check if the current element value exists in the (unique) observed element values set:\\n        \\n                3.1.1   If current element value exists in the observed element values set, \\n                        then return this value.\\n\\n                3.1.2   If current element value does not exist in observed element values set, \\n                        then add it to the observed element values set.\\n            \\n                3.1.3   Otherwise, return -1. \\n'"
      ]
     },
     "execution_count": 18,
     "metadata": {},
     "output_type": "execute_result"
    }
   ],
   "source": [
    "# Your answer here\n",
    "'''\n",
    "Following are the logical steps how my solution works:\n",
    "\n",
    "1.  Accept the input of a list of numbers.\n",
    "\n",
    "2.  Create an empty set for the observed list element values.\n",
    "\n",
    "3.  Iterate through the list:\n",
    "\n",
    "        3.1 Check if the current element value exists in the (unique) observed element values set:\n",
    "        \n",
    "                3.1.1   If current element value exists in the observed element values set, \n",
    "                        then return this value.\n",
    "\n",
    "                3.1.2   If current element value does not exist in observed element values set, \n",
    "                        then add it to the observed element values set.\n",
    "            \n",
    "                3.1.3   Otherwise, return -1. \n",
    "'''"
   ]
  },
  {
   "cell_type": "markdown",
   "metadata": {},
   "source": [
    "\n",
    "-   Explain the problem’s time and space complexity\n"
   ]
  },
  {
   "cell_type": "code",
   "execution_count": 19,
   "metadata": {},
   "outputs": [
    {
     "data": {
      "text/plain": [
       "'\\nTime Complexity: O(n)\\n    •   for num in nums: Loop iterates over all  elements therefore complexity is O(n).\\n    • \\tnum in seen: average-case O(1) lookup in a set\\n    • \\tseen.add(num): average-case O(1) insertion into a set\\n\\nSo for each of the  elements, we do constant-time operations.\\n\\nTotal Time Complexity: O(n) - Single pass with constant-time set operations.\\n\\nWorst-case scenario: No duplicates, loop runs through all  elements.\\n\\nSpace Complexity: O(n)\\n    • \\tIn the worst case (no duplicates), we store all n elements in the seen set.\\n    • \\tEach element is stored once.\\n\\nTotal Space Complexity: O(n) - Set stores up to n unique elements.\\n'"
      ]
     },
     "execution_count": 19,
     "metadata": {},
     "output_type": "execute_result"
    }
   ],
   "source": [
    "# Your answer here\n",
    "'''\n",
    "Time Complexity: O(n)\n",
    "    •   for num in nums: Loop iterates over all  elements therefore complexity is O(n).\n",
    "    • \tnum in seen: average-case O(1) lookup in a set\n",
    "    • \tseen.add(num): average-case O(1) insertion into a set\n",
    "\n",
    "So for each of the  elements, we do constant-time operations.\n",
    "\n",
    "Total Time Complexity: O(n) - Single pass with constant-time set operations.\n",
    "\n",
    "Worst-case scenario: No duplicates, loop runs through all  elements.\n",
    "\n",
    "Space Complexity: O(n)\n",
    "    • \tIn the worst case (no duplicates), we store all n elements in the seen set.\n",
    "    • \tEach element is stored once.\n",
    "\n",
    "Total Space Complexity: O(n) - Set stores up to n unique elements.\n",
    "'''"
   ]
  },
  {
   "cell_type": "markdown",
   "metadata": {},
   "source": [
    "\n",
    "-   Explain the thinking to an alternative solution (no coding required, but a classmate reading this should be able to code it up based off your text)\n"
   ]
  },
  {
   "cell_type": "code",
   "execution_count": 20,
   "metadata": {},
   "outputs": [
    {
     "data": {
      "text/plain": [
       "\"\\nFollowing are the logical steps for the alternative solution:\\n\\n1.  Accept the input of a list of numbers.\\n\\n2.  Create an empty dictionary for the observed list element values.\\n\\n3.  Iterate through the list:\\n\\n        3.1 Check if the current element value exists in the observed element values \\n                dictionary collection using the element value as (unique) key of the \\n                dictionary collection:\\n        \\n                3.1.1   If current element value exists in the observed element values \\n                        dictionary collection, then return this value.\\n\\n                3.1.2   If current element value does not exist in the observed element values \\n                        dictionary collection, then add it to the observed element values \\n                        dictionary collection using element value as the key and the value as 'True'.\\n            \\n                3.1.3   Otherwise, return -1. \\n\""
      ]
     },
     "execution_count": 20,
     "metadata": {},
     "output_type": "execute_result"
    }
   ],
   "source": [
    "# Your answer here\n",
    "'''\n",
    "Following are the logical steps for the alternative solution:\n",
    "\n",
    "1.  Accept the input of a list of numbers.\n",
    "\n",
    "2.  Create an empty dictionary for the observed list element values.\n",
    "\n",
    "3.  Iterate through the list:\n",
    "\n",
    "        3.1 Check if the current element value exists in the observed element values \n",
    "                dictionary collection using the element value as (unique) key of the \n",
    "                dictionary collection:\n",
    "        \n",
    "                3.1.1   If current element value exists in the observed element values \n",
    "                        dictionary collection, then return this value.\n",
    "\n",
    "                3.1.2   If current element value does not exist in the observed element values \n",
    "                        dictionary collection, then add it to the observed element values \n",
    "                        dictionary collection using element value as the key and the value as 'True'.\n",
    "            \n",
    "                3.1.3   Otherwise, return -1. \n",
    "'''"
   ]
  },
  {
   "cell_type": "markdown",
   "metadata": {},
   "source": [
    "## Evaluation Criteria\n",
    "\n",
    "-   Problem is accurately stated\n",
    "\n",
    "-   Two examples are correct and easily understandable\n",
    "\n",
    "-   Correctness, time, and space complexity of the coding solution\n",
    "\n",
    "-   Clarity in explaining why the solution works, its time and space complexity\n",
    "\n",
    "-   Clarity in the proposal to the alternative solution"
   ]
  },
  {
   "cell_type": "markdown",
   "metadata": {},
   "source": [
    "## Submission Information\n",
    "\n",
    "🚨 **Please review our [Assignment Submission Guide](https://github.com/UofT-DSI/onboarding/blob/main/onboarding_documents/submissions.md)** 🚨 for detailed instructions on how to format, branch, and submit your work. Following these guidelines is crucial for your submissions to be evaluated correctly.\n",
    "\n",
    "### Submission Parameters:\n",
    "* Submission Due Date: `HH:MM AM/PM - DD/MM/YYYY`\n",
    "* The branch name for your repo should be: `assignment-1`\n",
    "* What to submit for this assignment:\n",
    "    * This Jupyter Notebook (assignment_1.ipynb) should be populated and should be the only change in your pull request.\n",
    "* What the pull request link should look like for this assignment: `https://github.com/<your_github_username>/algorithms_and_data_structures/pull/<pr_id>`\n",
    "    * Open a private window in your browser. Copy and paste the link to your pull request into the address bar. Make sure you can see your pull request properly. This helps the technical facilitator and learning support staff review your submission easily.\n",
    "\n",
    "Checklist:\n",
    "- [ ] Create a branch called `assignment-1`.\n",
    "- [ ] Ensure that the repository is public.\n",
    "- [ ] Review [the PR description guidelines](https://github.com/UofT-DSI/onboarding/blob/main/onboarding_documents/submissions.md#guidelines-for-pull-request-descriptions) and adhere to them.\n",
    "- [ ] Verify that the link is accessible in a private browser window.\n",
    "\n",
    "If you encounter any difficulties or have questions, please don't hesitate to reach out to our team via our Slack at `#cohort-3-help`. Our Technical Facilitators and Learning Support staff are here to help you navigate any challenges."
   ]
  }
 ],
 "metadata": {
  "kernelspec": {
   "display_name": "dsi_participant",
   "language": "python",
   "name": "python3"
  },
  "language_info": {
   "codemirror_mode": {
    "name": "ipython",
    "version": 3
   },
   "file_extension": ".py",
   "mimetype": "text/x-python",
   "name": "python",
   "nbconvert_exporter": "python",
   "pygments_lexer": "ipython3",
   "version": "3.9.19"
  }
 },
 "nbformat": 4,
 "nbformat_minor": 4
}
